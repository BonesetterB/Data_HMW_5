{
  "cells": [
    {
      "cell_type": "code",
      "execution_count": 3,
      "metadata": {
        "id": "kAErYfLeDbNd"
      },
      "outputs": [],
      "source": [
        "import os\n",
        "import pandas as pd\n",
        "from sklearn.svm import SVC\n",
        "from sklearn.ensemble import RandomForestClassifier\n",
        "from sklearn.metrics import accuracy_score\n",
        "from sklearn.model_selection import train_test_split"
      ]
    },
    {
      "cell_type": "code",
      "execution_count": 4,
      "metadata": {
        "colab": {
          "base_uri": "https://localhost:8080/",
          "height": 255
        },
        "id": "u5xB80T8c70n",
        "outputId": "24da512d-15d4-4ff7-dabc-7198ad9d3b76"
      },
      "outputs": [],
      "source": [
        "combined_data  = pd.DataFrame()\n",
        "folder_path = r\"C:\\Users\\camyr\\Downloads\\data\"\n",
        "for folder_name in  os.listdir(folder_path):\n",
        "    folder = os.path.join(folder_path, folder_name)\n",
        "    if os.path.isdir(folder):\n",
        "        for file_name in os.listdir(folder):\n",
        "            file = os.path.join(folder, file_name)\n",
        "            if file.endswith(\".csv\"):\n",
        "                data = pd.read_csv(file)\n",
        "                data[\"Activity\"] = folder_name\n",
        "                combined_data = pd.concat([combined_data, data])"
      ]
    },
    {
      "cell_type": "code",
      "execution_count": 11,
      "metadata": {},
      "outputs": [
        {
          "data": {
            "text/html": [
              "<div>\n",
              "<style scoped>\n",
              "    .dataframe tbody tr th:only-of-type {\n",
              "        vertical-align: middle;\n",
              "    }\n",
              "\n",
              "    .dataframe tbody tr th {\n",
              "        vertical-align: top;\n",
              "    }\n",
              "\n",
              "    .dataframe thead th {\n",
              "        text-align: right;\n",
              "    }\n",
              "</style>\n",
              "<table border=\"1\" class=\"dataframe\">\n",
              "  <thead>\n",
              "    <tr style=\"text-align: right;\">\n",
              "      <th></th>\n",
              "      <th>accelerometer_X</th>\n",
              "      <th>accelerometer_Y</th>\n",
              "      <th>accelerometer_Z</th>\n",
              "      <th>Activity</th>\n",
              "    </tr>\n",
              "  </thead>\n",
              "  <tbody>\n",
              "    <tr>\n",
              "      <th>0</th>\n",
              "      <td>1.000776</td>\n",
              "      <td>4.616021</td>\n",
              "      <td>8.576031</td>\n",
              "      <td>idle</td>\n",
              "    </tr>\n",
              "    <tr>\n",
              "      <th>1</th>\n",
              "      <td>0.718261</td>\n",
              "      <td>4.209007</td>\n",
              "      <td>8.446744</td>\n",
              "      <td>idle</td>\n",
              "    </tr>\n",
              "    <tr>\n",
              "      <th>2</th>\n",
              "      <td>-0.909797</td>\n",
              "      <td>-0.282516</td>\n",
              "      <td>9.203311</td>\n",
              "      <td>idle</td>\n",
              "    </tr>\n",
              "    <tr>\n",
              "      <th>3</th>\n",
              "      <td>5.099650</td>\n",
              "      <td>0.148441</td>\n",
              "      <td>8.418014</td>\n",
              "      <td>idle</td>\n",
              "    </tr>\n",
              "    <tr>\n",
              "      <th>4</th>\n",
              "      <td>1.762132</td>\n",
              "      <td>-0.162806</td>\n",
              "      <td>9.251195</td>\n",
              "      <td>idle</td>\n",
              "    </tr>\n",
              "  </tbody>\n",
              "</table>\n",
              "</div>"
            ],
            "text/plain": [
              "   accelerometer_X  accelerometer_Y  accelerometer_Z Activity\n",
              "0         1.000776         4.616021         8.576031     idle\n",
              "1         0.718261         4.209007         8.446744     idle\n",
              "2        -0.909797        -0.282516         9.203311     idle\n",
              "3         5.099650         0.148441         8.418014     idle\n",
              "4         1.762132        -0.162806         9.251195     idle"
            ]
          },
          "execution_count": 11,
          "metadata": {},
          "output_type": "execute_result"
        }
      ],
      "source": [
        "combined_data.head()"
      ]
    },
    {
      "cell_type": "code",
      "execution_count": 2,
      "metadata": {},
      "outputs": [
        {
          "ename": "NameError",
          "evalue": "name 'combined_data' is not defined",
          "output_type": "error",
          "traceback": [
            "\u001b[1;31m---------------------------------------------------------------------------\u001b[0m",
            "\u001b[1;31mNameError\u001b[0m                                 Traceback (most recent call last)",
            "\u001b[1;32md:\\python\\Data_HMW_5\\HMW5.ipynb Cell 4\u001b[0m line \u001b[0;36m1\n\u001b[1;32m----> <a href='vscode-notebook-cell:/d%3A/python/Data_HMW_5/HMW5.ipynb#W3sZmlsZQ%3D%3D?line=0'>1</a>\u001b[0m combined_data\u001b[39m.\u001b[39mtail()\n",
            "\u001b[1;31mNameError\u001b[0m: name 'combined_data' is not defined"
          ]
        }
      ],
      "source": [
        "combined_data.tail()"
      ]
    },
    {
      "cell_type": "code",
      "execution_count": null,
      "metadata": {},
      "outputs": [],
      "source": [
        "combined_data.shape"
      ]
    },
    {
      "cell_type": "code",
      "execution_count": null,
      "metadata": {},
      "outputs": [],
      "source": [
        "X = combined_data[['accelerometer_X', 'accelerometer_Y', 'accelerometer_Z']]\n",
        "y = combined_data['Activity']"
      ]
    },
    {
      "cell_type": "code",
      "execution_count": null,
      "metadata": {},
      "outputs": [],
      "source": [
        "X_train, X_test, y_train, y_test = train_test_split(X, y, test_size=0.2, random_state=42)"
      ]
    },
    {
      "cell_type": "code",
      "execution_count": null,
      "metadata": {},
      "outputs": [],
      "source": [
        "svm_model = SVC(kernel='rbf')\n",
        "svm_model.fit(X_train, y_train)"
      ]
    },
    {
      "cell_type": "code",
      "execution_count": null,
      "metadata": {},
      "outputs": [],
      "source": [
        "rf_model = RandomForestClassifier()\n",
        "rf_model.fit(X_train, y_train)"
      ]
    },
    {
      "cell_type": "code",
      "execution_count": null,
      "metadata": {},
      "outputs": [],
      "source": [
        "svm_predictions = svm_model.predict(X_test)\n",
        "rf_predictions = rf_model.predict(X_test)"
      ]
    },
    {
      "cell_type": "code",
      "execution_count": null,
      "metadata": {},
      "outputs": [],
      "source": [
        "svm_accuracy = accuracy_score(y_test, svm_predictions)\n",
        "rf_accuracy = accuracy_score(y_test, rf_predictions)\n",
        "\n",
        "print(\"Точність моделі SVM:\", svm_accuracy)\n",
        "print(\"Точність моделі Випадкового лісу:\", rf_accuracy)\n",
        "     "
      ]
    }
  ],
  "metadata": {
    "colab": {
      "provenance": []
    },
    "kernelspec": {
      "display_name": "Python 3",
      "name": "python3"
    },
    "language_info": {
      "codemirror_mode": {
        "name": "ipython",
        "version": 3
      },
      "file_extension": ".py",
      "mimetype": "text/x-python",
      "name": "python",
      "nbconvert_exporter": "python",
      "pygments_lexer": "ipython3",
      "version": "3.10.5"
    }
  },
  "nbformat": 4,
  "nbformat_minor": 0
}
